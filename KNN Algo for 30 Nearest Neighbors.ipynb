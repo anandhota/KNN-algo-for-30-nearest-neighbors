{
 "cells": [
  {
   "cell_type": "code",
   "execution_count": 7,
   "metadata": {},
   "outputs": [],
   "source": [
    "from sklearn import datasets \n",
    "from sklearn.model_selection import train_test_split\n",
    "import numpy as np\n",
    "import pandas as pd\n",
    "import matplotlib.pyplot as plt\n",
    "import matplotlib\n",
    "from sklearn.neighbors import KNeighborsClassifier\n",
    "from sklearn.metrics import confusion_matrix\n",
    "from sklearn.metrics import classification_report"
   ]
  },
  {
   "cell_type": "code",
   "execution_count": 2,
   "metadata": {},
   "outputs": [
    {
     "name": "stdout",
     "output_type": "stream",
     "text": [
      "dict_keys(['data', 'target', 'frame', 'feature_names', 'target_names', 'DESCR', 'details', 'categories', 'url'])\n"
     ]
    }
   ],
   "source": [
    "from sklearn.datasets import fetch_openml\n",
    "dataset = fetch_openml(\"mnist_784\")\n",
    "print(dataset.keys())"
   ]
  },
  {
   "cell_type": "code",
   "execution_count": 22,
   "metadata": {},
   "outputs": [],
   "source": [
    "x=dataset.data[:500]\n",
    "y=dataset.target[:500]"
   ]
  },
  {
   "cell_type": "code",
   "execution_count": 23,
   "metadata": {},
   "outputs": [],
   "source": [
    "trainX, testX, trainY, testY = train_test_split(x,y, test_size=0.3, random_state=12)"
   ]
  },
  {
   "cell_type": "code",
   "execution_count": 24,
   "metadata": {},
   "outputs": [
    {
     "name": "stdout",
     "output_type": "stream",
     "text": [
      "k=2, test accuracy=83.33%\n",
      "k=2, train accuracy=92.29%\n",
      "k=3, test accuracy=82.00%\n",
      "k=3, train accuracy=91.43%\n",
      "k=4, test accuracy=82.00%\n",
      "k=4, train accuracy=89.43%\n",
      "k=5, test accuracy=80.67%\n",
      "k=5, train accuracy=90.00%\n",
      "k=6, test accuracy=80.67%\n",
      "k=6, train accuracy=88.86%\n",
      "k=7, test accuracy=82.00%\n",
      "k=7, train accuracy=87.14%\n",
      "k=8, test accuracy=82.00%\n",
      "k=8, train accuracy=85.71%\n",
      "k=9, test accuracy=83.33%\n",
      "k=9, train accuracy=85.71%\n",
      "k=10, test accuracy=79.33%\n",
      "k=10, train accuracy=85.71%\n",
      "k=11, test accuracy=79.33%\n",
      "k=11, train accuracy=83.71%\n",
      "k=12, test accuracy=80.00%\n",
      "k=12, train accuracy=83.43%\n",
      "k=13, test accuracy=80.00%\n",
      "k=13, train accuracy=84.00%\n",
      "k=14, test accuracy=78.67%\n",
      "k=14, train accuracy=82.86%\n",
      "k=15, test accuracy=78.00%\n",
      "k=15, train accuracy=82.57%\n",
      "k=16, test accuracy=76.00%\n",
      "k=16, train accuracy=82.00%\n",
      "k=17, test accuracy=78.00%\n",
      "k=17, train accuracy=80.57%\n",
      "k=18, test accuracy=77.33%\n",
      "k=18, train accuracy=80.29%\n",
      "k=19, test accuracy=77.33%\n",
      "k=19, train accuracy=79.14%\n",
      "k=20, test accuracy=74.67%\n",
      "k=20, train accuracy=79.14%\n",
      "k=21, test accuracy=75.33%\n",
      "k=21, train accuracy=77.14%\n",
      "k=22, test accuracy=75.33%\n",
      "k=22, train accuracy=76.86%\n",
      "k=23, test accuracy=76.00%\n",
      "k=23, train accuracy=77.43%\n",
      "k=24, test accuracy=75.33%\n",
      "k=24, train accuracy=77.14%\n",
      "k=25, test accuracy=74.67%\n",
      "k=25, train accuracy=76.57%\n",
      "k=26, test accuracy=74.00%\n",
      "k=26, train accuracy=77.14%\n",
      "k=27, test accuracy=74.67%\n",
      "k=27, train accuracy=75.43%\n",
      "k=28, test accuracy=74.00%\n",
      "k=28, train accuracy=76.29%\n",
      "k=29, test accuracy=73.33%\n",
      "k=29, train accuracy=75.71%\n"
     ]
    }
   ],
   "source": [
    "k_Values = range(2, 30, 1)\n",
    "testaccuracies = []\n",
    "trainaccuracies = []\n",
    "## loop for different values of k\n",
    "for k in range(2, 30, 1):\n",
    "          model = KNeighborsClassifier(n_neighbors=k)\n",
    "          model.fit(trainX, trainY)\n",
    "          s1 = model.score(testX, testY)\n",
    "          s2 = model.score(trainX, trainY)\n",
    "          print(\"k=%d, test accuracy=%.2f%%\" % (k, s1 * 100))\n",
    "          print(\"k=%d, train accuracy=%.2f%%\" % (k, s2 * 100))\n",
    "          testaccuracies.append(s1)\n",
    "          trainaccuracies.append(s2)"
   ]
  },
  {
   "cell_type": "code",
   "execution_count": 25,
   "metadata": {},
   "outputs": [
    {
     "name": "stdout",
     "output_type": "stream",
     "text": [
      "k=2 highest test accuracy of 83.33%\n",
      "k=2 highest train accuracy of 92.29%\n"
     ]
    }
   ],
   "source": [
    "## determine highest accuracy\n",
    "\n",
    "itest = np.argmax(testaccuracies)\n",
    "itrain = np.argmax(trainaccuracies)\n",
    "print(\"k=%d highest test accuracy of %.2f%%\" % (k_Values[itest],  testaccuracies[itest] * 100))\n",
    "print(\"k=%d highest train accuracy of %.2f%%\" % (k_Values[itrain], trainaccuracies[itrain] * 100))"
   ]
  },
  {
   "cell_type": "code",
   "execution_count": 26,
   "metadata": {},
   "outputs": [],
   "source": [
    "model = KNeighborsClassifier(n_neighbors=k_Values[itest])\n",
    "model.fit(trainX, trainY)\n",
    "Predict = model.predict(testX)"
   ]
  },
  {
   "cell_type": "code",
   "execution_count": 27,
   "metadata": {},
   "outputs": [
    {
     "name": "stdout",
     "output_type": "stream",
     "text": [
      "Evaluation\n",
      "              precision    recall  f1-score   support\n",
      "\n",
      "           0       1.00      1.00      1.00        14\n",
      "           1       0.68      1.00      0.81        23\n",
      "           2       0.87      0.65      0.74        20\n",
      "           3       0.83      0.83      0.83        18\n",
      "           4       0.89      0.67      0.76        12\n",
      "           5       0.67      0.67      0.67         9\n",
      "           6       0.92      0.92      0.92        12\n",
      "           7       0.86      0.90      0.88        20\n",
      "           8       1.00      0.62      0.77         8\n",
      "           9       0.92      0.86      0.89        14\n",
      "\n",
      "    accuracy                           0.83       150\n",
      "   macro avg       0.86      0.81      0.83       150\n",
      "weighted avg       0.85      0.83      0.83       150\n",
      "\n"
     ]
    }
   ],
   "source": [
    "print(\"Evaluation\")\n",
    "print(classification_report(testY, Predict))"
   ]
  },
  {
   "cell_type": "code",
   "execution_count": 28,
   "metadata": {},
   "outputs": [
    {
     "name": "stdout",
     "output_type": "stream",
     "text": [
      "Confusion Matrix\n",
      "[[14  0  0  0  0  0  0  0  0  0]\n",
      " [ 0 23  0  0  0  0  0  0  0  0]\n",
      " [ 0  5 13  0  0  1  0  1  0  0]\n",
      " [ 0  0  2 15  0  1  0  0  0  0]\n",
      " [ 0  1  0  0  8  0  1  1  0  1]\n",
      " [ 0  1  0  2  0  6  0  0  0  0]\n",
      " [ 0  1  0  0  0  0 11  0  0  0]\n",
      " [ 0  2  0  0  0  0  0 18  0  0]\n",
      " [ 0  1  0  0  1  1  0  0  5  0]\n",
      " [ 0  0  0  1  0  0  0  1  0 12]]\n"
     ]
    }
   ],
   "source": [
    "print(\"Confusion Matrix\")\n",
    "print(confusion_matrix(testY, Predict))"
   ]
  },
  {
   "cell_type": "code",
   "execution_count": 29,
   "metadata": {},
   "outputs": [
    {
     "data": {
      "image/png": "[encoded data removed]",
      "text/plain": [
       "<Figure size 432x288 with 1 Axes>"
      ]
     },
     "metadata": {
      "needs_background": "light"
     },
     "output_type": "display_data"
    }
   ],
   "source": [
    "## plotting all respective values of k\n",
    "plt.scatter(trainaccuracies,testaccuracies)\n",
    "plt.plot(trainaccuracies,testaccuracies,c=\"yellow\")\n",
    "plt.xlabel(\"Test Accuracies\")\n",
    "plt.ylabel(\"Train Accuracies\")\n",
    "plt.title(\"Test Accuracy vs Train Accuracy\")\n",
    "plt.show()"
   ]
  },
  {
   "cell_type": "code",
   "execution_count": null,
   "metadata": {},
   "outputs": [],
   "source": []
  },
  {
   "cell_type": "code",
   "execution_count": null,
   "metadata": {},
   "outputs": [],
   "source": []
  }
 ],
 "metadata": {
  "kernelspec": {
   "display_name": "Python 3",
   "language": "python",
   "name": "python3"
  },
  "language_info": {
   "codemirror_mode": {
    "name": "ipython",
    "version": 3
   },
   "file_extension": ".py",
   "mimetype": "text/x-python",
   "name": "python",
   "nbconvert_exporter": "python",
   "pygments_lexer": "ipython3",
   "version": "3.7.6"
  }
 },
 "nbformat": 4,
 "nbformat_minor": 4
}
